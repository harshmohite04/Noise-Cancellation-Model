{
 "cells": [
  {
   "cell_type": "code",
   "execution_count": null,
   "metadata": {},
   "outputs": [],
   "source": [
    "import librosa\n",
    "import soundfile as sf"
   ]
  },
  {
   "cell_type": "code",
   "execution_count": null,
   "metadata": {},
   "outputs": [],
   "source": [
    "audio, sr = librosa.load(r'C:\\Users\\Asus\\OneDrive\\Documents\\python\\Noise cancellation\\Harsh.wav')\n",
    "\n",
    "sf.write('output.wav', audio, sr)"
   ]
  },
  {
   "cell_type": "code",
   "execution_count": null,
   "metadata": {},
   "outputs": [],
   "source": [
    "import matplotlib.pyplot as plt\n",
    "import noisereduce as nr\n",
    "\n",
    "reduced_noise = nr.reduce_noise(audio, sr=sr)\n",
    "\n",
    "plt.figure(figsize=(15, 6))\n",
    "plt.plot(audio)\n",
    "plt.xlabel('Time (samples)')\n",
    "plt.ylabel('Amplitude')\n",
    "plt.title('Original')\n",
    "plt.show()\n",
    "\n",
    "\n",
    "\n",
    "plt.figure(figsize = (15, 6))\n",
    "plt.plot(reduced_noise)\n",
    "plt.xlabel('Time (samples)')\n",
    "plt.ylabel('Amplitude')\n",
    "plt.title('Denoised')\n",
    "plt.show()"
   ]
  },
  {
   "cell_type": "code",
   "execution_count": null,
   "metadata": {},
   "outputs": [],
   "source": [
    "import numpy as np\n",
    "\n",
    "# Generate an analog signal (e.g., a sine wave)\n",
    "t = np.linspace(0, 1, 1000, False)  # time array\n",
    "f = 100  # frequency\n",
    "analog_signal = np.sin(2 * np.pi * f * t)\n",
    "\n",
    "# Sampling\n",
    "sampling_rate = 44100  # Hz\n",
    "sampled_signal = analog_signal[::int(sampling_rate / f)]\n",
    "\n",
    "# Quantization (e.g., 16-bit quantization)\n",
    "quantization_levels = 2**16\n",
    "quantized_signal = np.round(sampled_signal * (quantization_levels - 1)) / (quantization_levels - 1)\n",
    "\n",
    "# Convert to digital signal (e.g., 16-bit integer array)\n",
    "digital_signal = quantized_signal.astype(np.int16)"
   ]
  },
  {
   "cell_type": "code",
   "execution_count": null,
   "metadata": {},
   "outputs": [],
   "source": []
  },
  {
   "cell_type": "code",
   "execution_count": null,
   "metadata": {},
   "outputs": [],
   "source": []
  }
 ],
 "metadata": {
  "kernelspec": {
   "display_name": "Python 3",
   "language": "python",
   "name": "python3"
  },
  "language_info": {
   "codemirror_mode": {
    "name": "ipython",
    "version": 3
   },
   "file_extension": ".py",
   "mimetype": "text/x-python",
   "name": "python",
   "nbconvert_exporter": "python",
   "pygments_lexer": "ipython3",
   "version": "3.11.0"
  }
 },
 "nbformat": 4,
 "nbformat_minor": 2
}
